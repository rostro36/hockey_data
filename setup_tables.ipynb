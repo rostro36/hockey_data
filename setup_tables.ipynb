{
 "cells": [
  {
   "cell_type": "markdown",
   "id": "63b9c2c7",
   "metadata": {},
   "source": [
    "# Setup database\n",
    "This only needs to be run once.\n",
    "\n",
    "First, setup the tables and then populate it with the basic team information."
   ]
  },
  {
   "cell_type": "code",
   "execution_count": null,
   "id": "fa0918f6",
   "metadata": {},
   "outputs": [],
   "source": [
    "from setup import setup_tables, populate_teams\n",
    "setup_tables()\n",
    "populate_teams()"
   ]
  },
  {
   "cell_type": "markdown",
   "id": "91f6a057",
   "metadata": {},
   "source": [
    "## Run scraping.py"
   ]
  },
  {
   "cell_type": "markdown",
   "id": "83691346",
   "metadata": {},
   "source": [
    "## Check if scraping worked properly\n",
    "You need to change the user, password, host and maybe port."
   ]
  },
  {
   "cell_type": "code",
   "execution_count": null,
   "id": "7d69d61c",
   "metadata": {},
   "outputs": [],
   "source": [
    "import pymysql\n",
    "\n",
    "user = 'reader_user'\n",
    "password = 'password_user'\n",
    "host='host'\n",
    "port = '3306'\n",
    "db_name = 'hockey_teams'\n",
    "\n",
    "mydb = pymysql.connect(\n",
    "        host=host, user=user, password=password, database=db_name)\n",
    "mycursor = mydb.cursor()\n",
    "mycursor.execute(\"SELECT * FROM team_data;\")"
   ]
  }
 ],
 "metadata": {
  "kernelspec": {
   "display_name": "Python 3",
   "language": "python",
   "name": "python3"
  },
  "language_info": {
   "codemirror_mode": {
    "name": "ipython",
    "version": 3
   },
   "file_extension": ".py",
   "mimetype": "text/x-python",
   "name": "python",
   "nbconvert_exporter": "python",
   "pygments_lexer": "ipython3",
   "version": "3.8.10"
  }
 },
 "nbformat": 4,
 "nbformat_minor": 5
}
